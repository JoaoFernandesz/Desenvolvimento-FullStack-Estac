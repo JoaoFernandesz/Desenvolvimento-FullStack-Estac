{
  "nbformat": 4,
  "nbformat_minor": 0,
  "metadata": {
    "colab": {
      "provenance": []
    },
    "kernelspec": {
      "name": "python3",
      "display_name": "Python 3"
    },
    "language_info": {
      "name": "python"
    }
  },
  "cells": [
    {
      "cell_type": "markdown",
      "source": [
        "# **Missão Prática | Nível 3**"
      ],
      "metadata": {
        "id": "liRNHqYaK-8T"
      }
    },
    {
      "cell_type": "markdown",
      "source": [
        "Notebook que retorna os conjuntos das partes informadas na primeira célula.\n"
      ],
      "metadata": {
        "id": "WxBX-CyALLUz"
      }
    },
    {
      "cell_type": "code",
      "source": [
        "lista = list(map(int,input(\"\\nInsira a lista de inteiros desejada separando por virgulas: \").strip().split(',')))[::]"
      ],
      "metadata": {
        "id": "kkPjPFCyIMiO",
        "colab": {
          "base_uri": "https://localhost:8080/"
        },
        "outputId": "a600d5a8-687f-456b-b7c8-b9144dd52793"
      },
      "execution_count": 39,
      "outputs": [
        {
          "name": "stdout",
          "output_type": "stream",
          "text": [
            "\n",
            "Insira a lista de inteiros desejada separando por virgulas: 1,2,3\n"
          ]
        }
      ]
    },
    {
      "cell_type": "markdown",
      "source": [
        "Exemplos de entradas:\n",
        "*   1,2,3\n",
        "*   12,4,14,6,7\n",
        "*   123,54,56,6\n",
        "*   8,6,4,3\n",
        "*   1,2\n"
      ],
      "metadata": {
        "id": "VxBmBWHZYoof"
      }
    },
    {
      "cell_type": "code",
      "source": [
        "def conjuntosDasPartes(lista):\n",
        "    if lista:\n",
        "        p = conjuntosDasPartes(lista[1:])\n",
        "        return (p + [x + lista[:1] for x in p])\n",
        "    else:\n",
        "        return ([[]])"
      ],
      "metadata": {
        "id": "nJspJghfUlAj"
      },
      "execution_count": 40,
      "outputs": []
    },
    {
      "cell_type": "code",
      "source": [
        "print('Os conjuntos das partes informadas na primeira célula de código estão na lista a seguir: ') \n",
        "conjuntosDasPartes(lista)"
      ],
      "metadata": {
        "colab": {
          "base_uri": "https://localhost:8080/"
        },
        "id": "yG8L_tnTVART",
        "outputId": "db9da7ac-04fb-471a-99fa-7e3a4e01c9a2"
      },
      "execution_count": 41,
      "outputs": [
        {
          "output_type": "stream",
          "name": "stdout",
          "text": [
            "Os conjuntos das partes informadas na primeira célula de código estão na lista a seguir: \n"
          ]
        },
        {
          "output_type": "execute_result",
          "data": {
            "text/plain": [
              "[[], [3], [2], [3, 2], [1], [3, 1], [2, 1], [3, 2, 1]]"
            ]
          },
          "metadata": {},
          "execution_count": 41
        }
      ]
    }
  ]
}