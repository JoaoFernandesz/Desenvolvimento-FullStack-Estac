{
  "nbformat": 4,
  "nbformat_minor": 0,
  "metadata": {
    "colab": {
      "provenance": [],
      "collapsed_sections": []
    },
    "kernelspec": {
      "name": "python3",
      "display_name": "Python 3"
    },
    "language_info": {
      "name": "python"
    }
  },
  "cells": [
    {
      "cell_type": "code",
      "execution_count": 18,
      "metadata": {
        "colab": {
          "base_uri": "https://localhost:8080/"
        },
        "id": "HaE4DArn6kHO",
        "outputId": "cb91060f-1537-4a14-b9ec-e8df9580d4a6"
      },
      "outputs": [
        {
          "output_type": "stream",
          "name": "stdout",
          "text": [
            "Digite um numero decimal: 123\n",
            "01111011 é a conversão do numero em Binario.\n"
          ]
        }
      ],
      "source": [
        "def conversor(num):\n",
        "    \"\"\"função que dado um número decimal retorna o valor dele em formato binário\n",
        "       int -> int\"\"\"\n",
        "     \n",
        "    if num>= 1:\n",
        "        conversor(num // 2)\n",
        "    print(num % 2, end ='')\n",
        "    return \"\"\n",
        "\n",
        "num=int(input(\"Digite um numero decimal: \"))\n",
        "print(f\"{conversor(num)} é a conversão do numero em Binario.\")"
      ]
    },
    {
      "cell_type": "code",
      "source": [],
      "metadata": {
        "id": "h9t5lT4S6l0L"
      },
      "execution_count": null,
      "outputs": []
    }
  ]
}